{
 "cells": [
  {
   "cell_type": "markdown",
   "metadata": {},
   "source": [
    "# BINUS ONLINE\n",
    "### SCIE6063 Computational Biology: Bioinformatics using Biopython\n",
    "\n",
    "#### What is BioPython?\n",
    "Biopython is a set of freely available tools for biological computation written in Python by an international team of developers. It is a distributed collaborative effort to develop Python libraries and applications which address the needs of current and future work in bioinformatics. The source code is made available under the Biopython License, which is extremely liberal and compatible with almost every license in the world.\n",
    "http://biopython.org/DIST/docs/tutorial/Tutorial.pdf \n",
    "\n",
    "![](https://drive.google.com/uc?export=view&id=1UlZt4j65UAWDVnvI5X0iKjm3VsVUoaLd)\n",
    "\n",
    "### Installation\n",
    "pip install biopython\n",
    "\n",
    "#### Common Applications\n",
    "+ For sequence analysis (DNA,RNA)\n",
    "+ To do transcription and translation of DNA (Protein Synthesis)\n",
    "+ Querying and Access BioInformatic Databases\n",
    "    - Entrez, BLAST,GenBank,etc\n",
    "+ 3D Structure analysis\n",
    "+ ATGATCTCGTAA\n",
    "+ ATTAAAGGTTTATACCTTCCCAGGTAACAAACCAACCAACTTTCGATCTCTTGTAGATCTGTTCTCTAAA\n",
    "\n",
    "\n",
    "#### Common Questions in BioInformatics\n",
    "+ How to create a sequence?\n",
    "+ How to Protein Synthesis (Transcription,Translation)?\n",
    "+ How to Find GC content and Molecular weights of a protein or DNA?\n",
    "+ How to Convert protein sequence from one-letter to three-letter code and vice versa?\n",
    "+ How to find the Frequency of Nucleotide,Amino Acids,etc?\n",
    "+ How to do Sequence Alignment?\n",
    "+ How to do Similarity and homology analysis?\n",
    "+ etc"
   ]
  },
  {
   "cell_type": "markdown",
   "metadata": {},
   "source": [
    "#### Features of BioPython\n",
    "![](https://drive.google.com/uc?export=view&id=1U-M19NFryjlGtHZTXbVV2_BMTU2vGI8Q)\n",
    "+ [https://coggle.it/diagram/XYlLv7styC7WAgJM/t/biopython-tutorial]"
   ]
  },
  {
   "cell_type": "markdown",
   "metadata": {},
   "source": [
    "### Lab 1 : Introduction to DNA Sequence\n",
    "\n",
    "##### Check biopython installation"
   ]
  },
  {
   "cell_type": "code",
   "execution_count": null,
   "metadata": {
    "ExecuteTime": {
     "end_time": "2022-09-16T06:24:23.199946Z",
     "start_time": "2022-09-16T06:24:06.459257Z"
    }
   },
   "outputs": [],
   "source": [
    "#Installation (try !pip for native anaconda distribution or pip for google colab)\n",
    "!pip install biopython"
   ]
  },
  {
   "cell_type": "code",
   "execution_count": null,
   "metadata": {
    "ExecuteTime": {
     "end_time": "2022-09-16T06:25:19.408505Z",
     "start_time": "2022-09-16T06:25:19.375565Z"
    }
   },
   "outputs": [],
   "source": [
    "# Load Bioinformatic Pkgs\n",
    "import Bio"
   ]
  },
  {
   "cell_type": "code",
   "execution_count": null,
   "metadata": {
    "ExecuteTime": {
     "end_time": "2022-09-16T06:25:22.414061Z",
     "start_time": "2022-09-16T06:25:22.376162Z"
    },
    "scrolled": false
   },
   "outputs": [],
   "source": [
    "# Methods and Attributes\n",
    "dir(Bio)"
   ]
  },
  {
   "cell_type": "markdown",
   "metadata": {},
   "source": [
    "#### Sequence Analysis\n",
    "+ DNA and RNA Sequence\n",
    "    - A Adenine\n",
    "    - C Cytosine\n",
    "    - G Guanine\n",
    "    - T Thymine\n",
    "    - U Uracil * RNA\n",
    "    \n",
    " \n",
    "+ DNA Structure\n",
    "![](https://drive.google.com/uc?export=view&id=1Q79Lo8pb305Lyv2ORnikIQpj2UC2wgw2)\n"
   ]
  },
  {
   "cell_type": "markdown",
   "metadata": {},
   "source": [
    "### Working with Sequences"
   ]
  },
  {
   "cell_type": "code",
   "execution_count": null,
   "metadata": {
    "ExecuteTime": {
     "end_time": "2022-09-16T06:25:28.428824Z",
     "start_time": "2022-09-16T06:25:28.316054Z"
    }
   },
   "outputs": [],
   "source": [
    "from Bio.Seq import Seq"
   ]
  },
  {
   "cell_type": "code",
   "execution_count": null,
   "metadata": {
    "ExecuteTime": {
     "end_time": "2022-09-16T06:25:29.688189Z",
     "start_time": "2022-09-16T06:25:29.669242Z"
    }
   },
   "outputs": [],
   "source": [
    "# Methods of Seq\n",
    "dir(Seq);"
   ]
  },
  {
   "cell_type": "code",
   "execution_count": null,
   "metadata": {
    "ExecuteTime": {
     "end_time": "2022-09-16T06:25:30.441623Z",
     "start_time": "2022-09-16T06:25:30.437632Z"
    }
   },
   "outputs": [],
   "source": [
    "# Create A simple sequences\n",
    "seq1 = Seq('ATGATCTCGTAA')"
   ]
  },
  {
   "cell_type": "code",
   "execution_count": null,
   "metadata": {
    "ExecuteTime": {
     "end_time": "2022-09-16T06:25:31.038388Z",
     "start_time": "2022-09-16T06:25:31.023394Z"
    }
   },
   "outputs": [],
   "source": [
    "seq1"
   ]
  },
  {
   "cell_type": "markdown",
   "metadata": {},
   "source": [
    "#### Sequence Manipulation\n",
    "+ Indexing/Slicing\n",
    "+ Join 2 Sequences\n",
    "+ Find a Codon in a sequence (Optional)\n",
    "+ Count the number of Nucleotides\n",
    "+ Find the number of times a patten repeat\n",
    "+ Subsequence Search\n",
    "+ Plot the Nucleotide/ Base frequency "
   ]
  },
  {
   "cell_type": "code",
   "execution_count": null,
   "metadata": {
    "ExecuteTime": {
     "end_time": "2022-09-16T06:25:35.600810Z",
     "start_time": "2022-09-16T06:25:35.592863Z"
    }
   },
   "outputs": [],
   "source": [
    "# Length of our seq\n",
    "len(seq1)"
   ]
  },
  {
   "cell_type": "code",
   "execution_count": null,
   "metadata": {
    "ExecuteTime": {
     "end_time": "2022-09-16T06:25:36.513604Z",
     "start_time": "2022-09-16T06:25:36.506622Z"
    }
   },
   "outputs": [],
   "source": [
    "len('ATGATCTCGTAA')"
   ]
  },
  {
   "cell_type": "code",
   "execution_count": null,
   "metadata": {
    "ExecuteTime": {
     "end_time": "2022-09-16T06:25:37.722597Z",
     "start_time": "2022-09-16T06:25:37.706637Z"
    }
   },
   "outputs": [],
   "source": [
    "# Slicing\n",
    "seq1[0:3]"
   ]
  },
  {
   "cell_type": "code",
   "execution_count": null,
   "metadata": {
    "ExecuteTime": {
     "end_time": "2022-09-16T06:25:38.541528Z",
     "start_time": "2022-09-16T06:25:38.532553Z"
    }
   },
   "outputs": [],
   "source": [
    "# Reverse\n",
    "seq1[::-1]"
   ]
  },
  {
   "cell_type": "code",
   "execution_count": null,
   "metadata": {
    "ExecuteTime": {
     "end_time": "2022-09-16T06:25:39.326635Z",
     "start_time": "2022-09-16T06:25:39.317657Z"
    }
   },
   "outputs": [],
   "source": [
    "seq2 = Seq('ATGATCTCGTGG')"
   ]
  },
  {
   "cell_type": "code",
   "execution_count": null,
   "metadata": {
    "ExecuteTime": {
     "end_time": "2022-09-16T06:25:39.908947Z",
     "start_time": "2022-09-16T06:25:39.898977Z"
    }
   },
   "outputs": [],
   "source": [
    "# Join Seq\n",
    "seq1[0:6] + seq2"
   ]
  },
  {
   "cell_type": "code",
   "execution_count": null,
   "metadata": {
    "ExecuteTime": {
     "end_time": "2022-09-16T06:25:40.932883Z",
     "start_time": "2022-09-16T06:25:40.912904Z"
    }
   },
   "outputs": [],
   "source": [
    "# Find the number of Nucleotides/Base within our seq\n",
    "# Count\n",
    "seq1.count('G')"
   ]
  },
  {
   "cell_type": "code",
   "execution_count": null,
   "metadata": {
    "ExecuteTime": {
     "end_time": "2022-09-16T06:25:41.778877Z",
     "start_time": "2022-09-16T06:25:41.771897Z"
    }
   },
   "outputs": [],
   "source": [
    "seq1.count('A')"
   ]
  },
  {
   "cell_type": "code",
   "execution_count": null,
   "metadata": {
    "ExecuteTime": {
     "end_time": "2022-09-16T06:25:42.685687Z",
     "start_time": "2022-09-16T06:25:42.673719Z"
    }
   },
   "outputs": [],
   "source": [
    "# Count the number of codon (3B) within a seq\n",
    "seq1.count('ATG')"
   ]
  },
  {
   "cell_type": "code",
   "execution_count": null,
   "metadata": {
    "ExecuteTime": {
     "end_time": "2022-09-16T06:25:43.941377Z",
     "start_time": "2022-09-16T06:25:43.922428Z"
    }
   },
   "outputs": [],
   "source": [
    "# Find the position/location of a nucleotide\n",
    "seq1.find('G')"
   ]
  },
  {
   "cell_type": "code",
   "execution_count": null,
   "metadata": {
    "ExecuteTime": {
     "end_time": "2022-09-16T06:25:44.881826Z",
     "start_time": "2022-09-16T06:25:44.873817Z"
    }
   },
   "outputs": [],
   "source": [
    "seq1"
   ]
  },
  {
   "cell_type": "code",
   "execution_count": null,
   "metadata": {
    "ExecuteTime": {
     "end_time": "2022-09-16T06:25:45.604982Z",
     "start_time": "2022-09-16T06:25:45.594044Z"
    }
   },
   "outputs": [],
   "source": [
    "# Find the position/location of a nucleotide from the right\n",
    "seq1.rfind('G')"
   ]
  },
  {
   "cell_type": "code",
   "execution_count": null,
   "metadata": {
    "ExecuteTime": {
     "end_time": "2022-09-16T06:25:50.987739Z",
     "start_time": "2022-09-16T06:25:50.967793Z"
    },
    "scrolled": true
   },
   "outputs": [],
   "source": [
    "# Find the location/index using index\n",
    "seq1.index('G')"
   ]
  },
  {
   "cell_type": "code",
   "execution_count": null,
   "metadata": {
    "ExecuteTime": {
     "end_time": "2022-09-16T06:25:51.806859Z",
     "start_time": "2022-09-16T06:25:51.786912Z"
    },
    "scrolled": true
   },
   "outputs": [],
   "source": [
    "# Find the location/index using index\n",
    "seq1.rindex('G')"
   ]
  },
  {
   "cell_type": "markdown",
   "metadata": {},
   "source": [
    "### Subsequences\n",
    "+ Search for a DNA subseq in sequence, return list of [subseq, positions]"
   ]
  },
  {
   "cell_type": "code",
   "execution_count": null,
   "metadata": {
    "ExecuteTime": {
     "end_time": "2022-09-16T06:25:53.875591Z",
     "start_time": "2022-09-16T06:25:53.846640Z"
    }
   },
   "outputs": [],
   "source": [
    "from Bio.SeqUtils import nt_search"
   ]
  },
  {
   "cell_type": "code",
   "execution_count": null,
   "metadata": {
    "ExecuteTime": {
     "end_time": "2022-09-16T06:25:55.101397Z",
     "start_time": "2022-09-16T06:25:55.094418Z"
    }
   },
   "outputs": [],
   "source": [
    "main_seq = Seq('ACTATT')\n",
    "subseq = Seq('ATT')"
   ]
  },
  {
   "cell_type": "code",
   "execution_count": null,
   "metadata": {
    "ExecuteTime": {
     "end_time": "2022-09-16T06:25:57.933411Z",
     "start_time": "2022-09-16T06:25:57.916455Z"
    }
   },
   "outputs": [],
   "source": [
    "nt_search(str(main_seq),str(subseq))"
   ]
  },
  {
   "cell_type": "markdown",
   "metadata": {},
   "source": [
    "#### Plot of Frequency of Nucleotides/Base"
   ]
  },
  {
   "cell_type": "code",
   "execution_count": null,
   "metadata": {
    "ExecuteTime": {
     "end_time": "2022-09-16T06:26:33.065872Z",
     "start_time": "2022-09-16T06:26:30.516081Z"
    }
   },
   "outputs": [],
   "source": [
    "pip install matplotlib"
   ]
  },
  {
   "cell_type": "code",
   "execution_count": null,
   "metadata": {
    "ExecuteTime": {
     "end_time": "2022-09-16T06:26:36.374494Z",
     "start_time": "2022-09-16T06:26:33.068865Z"
    }
   },
   "outputs": [],
   "source": [
    "import matplotlib.pyplot as plt"
   ]
  },
  {
   "cell_type": "code",
   "execution_count": null,
   "metadata": {
    "ExecuteTime": {
     "end_time": "2022-09-16T06:26:41.667587Z",
     "start_time": "2022-09-16T06:26:41.659611Z"
    }
   },
   "outputs": [],
   "source": [
    "from collections import Counter"
   ]
  },
  {
   "cell_type": "code",
   "execution_count": null,
   "metadata": {
    "ExecuteTime": {
     "end_time": "2022-09-16T06:31:15.813931Z",
     "start_time": "2022-09-16T06:31:15.807949Z"
    }
   },
   "outputs": [],
   "source": [
    "dna_seq = Seq('ATGATCTCGTAA')"
   ]
  },
  {
   "cell_type": "code",
   "execution_count": null,
   "metadata": {
    "ExecuteTime": {
     "end_time": "2022-09-16T06:31:16.349264Z",
     "start_time": "2022-09-16T06:31:16.340323Z"
    }
   },
   "outputs": [],
   "source": [
    "dna_freq = Counter(dna)\n",
    "dna_freq"
   ]
  },
  {
   "cell_type": "code",
   "execution_count": null,
   "metadata": {
    "ExecuteTime": {
     "end_time": "2022-09-16T06:31:17.262844Z",
     "start_time": "2022-09-16T06:31:17.072356Z"
    }
   },
   "outputs": [],
   "source": [
    "plt.bar(dna_freq.keys(),dna_freq.values())"
   ]
  },
  {
   "cell_type": "markdown",
   "metadata": {},
   "source": [
    "### DNA Composition: GC and AT Content"
   ]
  },
  {
   "cell_type": "markdown",
   "metadata": {},
   "source": [
    "#### GC Contents In DNA\n",
    "+ GC-content (or guanine-cytosine content) is the percentage of nitrogenous bases in a DNA or RNA molecule \n",
    "that are either Guanine (G) or Cytosine (C)\n",
    "\n",
    "A=T \n",
    "G=-C\n",
    "\n",
    "#### Usefulness\n",
    "+ In polymerase chain reaction (PCR) experiments, the GC-content of short oligonucleotides known as primers is often used to predict their annealing temperature to the template DNA. \n",
    "+ A higher GC-content level indicates a relatively higher melting temperature.\n",
    "+ DNA with low GC-content is less stable than DNA with high GC-content\n",
    "+ High GC content DNA can make it difficult to perform PCR amplication due to difficulty in designing a primer long enough to provide great specifity\n",
    "\n",
    "\n",
    "#### AT Contents in DNA\n",
    "+ AT content is the percentage of nitrogenous bases in a DNA or RNA molecule that are either Adenine (A) or Thymine (T)\n",
    "+ AT base pairing yields only 2 hydrogen bonds"
   ]
  },
  {
   "cell_type": "code",
   "execution_count": null,
   "metadata": {
    "ExecuteTime": {
     "end_time": "2022-09-16T06:31:24.145264Z",
     "start_time": "2022-09-16T06:31:24.133298Z"
    }
   },
   "outputs": [],
   "source": [
    "from Bio.SeqUtils import GC"
   ]
  },
  {
   "cell_type": "code",
   "execution_count": null,
   "metadata": {
    "ExecuteTime": {
     "end_time": "2022-09-16T06:31:25.179313Z",
     "start_time": "2022-09-16T06:31:25.170336Z"
    }
   },
   "outputs": [],
   "source": [
    "dna_seq"
   ]
  },
  {
   "cell_type": "code",
   "execution_count": null,
   "metadata": {
    "ExecuteTime": {
     "end_time": "2022-09-16T06:31:28.292434Z",
     "start_time": "2022-09-16T06:31:28.282492Z"
    }
   },
   "outputs": [],
   "source": [
    "GC(dna_seq)"
   ]
  },
  {
   "cell_type": "code",
   "execution_count": null,
   "metadata": {
    "ExecuteTime": {
     "end_time": "2022-09-16T06:31:34.267128Z",
     "start_time": "2022-09-16T06:31:34.259149Z"
    }
   },
   "outputs": [],
   "source": [
    "# Method 2\n",
    "# Custom Fxn to Get GC Count\n",
    "dna_seq.count('A')"
   ]
  },
  {
   "cell_type": "code",
   "execution_count": null,
   "metadata": {
    "ExecuteTime": {
     "end_time": "2022-09-16T06:31:35.929193Z",
     "start_time": "2022-09-16T06:31:35.920216Z"
    }
   },
   "outputs": [],
   "source": [
    "def gc_content(seq):\n",
    "    result = float(seq.count('G') + seq.count('C'))/len(seq) * 100\n",
    "    return result"
   ]
  },
  {
   "cell_type": "code",
   "execution_count": null,
   "metadata": {
    "ExecuteTime": {
     "end_time": "2022-09-16T06:31:37.765485Z",
     "start_time": "2022-09-16T06:31:37.752520Z"
    }
   },
   "outputs": [],
   "source": [
    "gc_content(dna_seq)"
   ]
  },
  {
   "cell_type": "code",
   "execution_count": null,
   "metadata": {
    "ExecuteTime": {
     "end_time": "2022-09-16T06:31:38.349066Z",
     "start_time": "2022-09-16T06:31:38.330117Z"
    }
   },
   "outputs": [],
   "source": [
    "# Method 3\n",
    "def gc_content2(seq):\n",
    "    gc = [ B for B in seq.upper() if B in 'GC']\n",
    "    result = float(len(gc))/len(seq) * 100\n",
    "    return result\n"
   ]
  },
  {
   "cell_type": "code",
   "execution_count": null,
   "metadata": {
    "ExecuteTime": {
     "end_time": "2022-09-16T06:31:38.964100Z",
     "start_time": "2022-09-16T06:31:38.953130Z"
    }
   },
   "outputs": [],
   "source": [
    "gc_content2(dna_seq)"
   ]
  },
  {
   "cell_type": "code",
   "execution_count": null,
   "metadata": {
    "ExecuteTime": {
     "end_time": "2022-09-16T06:31:39.528997Z",
     "start_time": "2022-09-16T06:31:39.521012Z"
    }
   },
   "outputs": [],
   "source": [
    "dna_seq.lower()"
   ]
  },
  {
   "cell_type": "code",
   "execution_count": null,
   "metadata": {
    "ExecuteTime": {
     "end_time": "2022-09-16T06:31:40.126284Z",
     "start_time": "2022-09-16T06:31:40.107296Z"
    }
   },
   "outputs": [],
   "source": [
    "gc_content2('atgatctcgtaa')"
   ]
  },
  {
   "cell_type": "code",
   "execution_count": null,
   "metadata": {
    "ExecuteTime": {
     "end_time": "2022-09-16T06:31:41.018726Z",
     "start_time": "2022-09-16T06:31:41.002735Z"
    }
   },
   "outputs": [],
   "source": [
    "GC('atgatctcgtaa')"
   ]
  },
  {
   "cell_type": "markdown",
   "metadata": {},
   "source": [
    "### AT Content"
   ]
  },
  {
   "cell_type": "code",
   "execution_count": null,
   "metadata": {
    "ExecuteTime": {
     "end_time": "2022-09-16T06:31:43.196215Z",
     "start_time": "2022-09-16T06:31:43.181289Z"
    }
   },
   "outputs": [],
   "source": [
    "# Fxn for AT content\n",
    "def at_content(seq):\n",
    "    result = float(seq.count('A') + seq.count('T'))/len(seq) * 100\n",
    "    return result"
   ]
  },
  {
   "cell_type": "code",
   "execution_count": null,
   "metadata": {
    "ExecuteTime": {
     "end_time": "2022-09-16T06:31:44.007319Z",
     "start_time": "2022-09-16T06:31:43.991363Z"
    }
   },
   "outputs": [],
   "source": [
    "at_content(dna_seq)"
   ]
  },
  {
   "cell_type": "markdown",
   "metadata": {},
   "source": [
    "#### Melting  Point of DNA\n",
    "+ Higher GC means high melting point\n",
    "+ Tm_Wallace: 'Rule of thumb'\n",
    "+ Tm_GC: Empirical formulas based on GC content. Salt and mismatch corrections can be included.\n",
    "+ Tm_NN: Calculation based on nearest neighbor thermodynamics. Several tables for DNA/DNA, DNA/RNA and RNA/RNA hybridizations are included. Correction for mismatches, dangling ends, salt concentration and other additives are available."
   ]
  },
  {
   "cell_type": "code",
   "execution_count": null,
   "metadata": {
    "ExecuteTime": {
     "end_time": "2022-09-16T06:31:46.805358Z",
     "start_time": "2022-09-16T06:31:46.793389Z"
    }
   },
   "outputs": [],
   "source": [
    "import Bio.SeqUtils"
   ]
  },
  {
   "cell_type": "code",
   "execution_count": null,
   "metadata": {
    "ExecuteTime": {
     "end_time": "2022-09-16T06:31:47.465493Z",
     "start_time": "2022-09-16T06:31:47.445548Z"
    }
   },
   "outputs": [],
   "source": [
    "dir(Bio.SeqUtils);"
   ]
  },
  {
   "cell_type": "code",
   "execution_count": null,
   "metadata": {
    "ExecuteTime": {
     "end_time": "2022-09-16T06:31:48.205164Z",
     "start_time": "2022-09-16T06:31:48.181229Z"
    }
   },
   "outputs": [],
   "source": [
    "from Bio.SeqUtils import MeltingTemp as mt"
   ]
  },
  {
   "cell_type": "code",
   "execution_count": null,
   "metadata": {
    "ExecuteTime": {
     "end_time": "2022-09-16T06:31:48.724774Z",
     "start_time": "2022-09-16T06:31:48.708819Z"
    }
   },
   "outputs": [],
   "source": [
    "dna_seq"
   ]
  },
  {
   "cell_type": "code",
   "execution_count": null,
   "metadata": {
    "ExecuteTime": {
     "end_time": "2022-09-16T06:31:49.641976Z",
     "start_time": "2022-09-16T06:31:49.624025Z"
    }
   },
   "outputs": [],
   "source": [
    "GC(dna_seq)"
   ]
  },
  {
   "cell_type": "code",
   "execution_count": null,
   "metadata": {
    "ExecuteTime": {
     "end_time": "2022-09-16T06:31:50.208159Z",
     "start_time": "2022-09-16T06:31:50.191207Z"
    }
   },
   "outputs": [],
   "source": [
    "# check for the melting point using wallace\n",
    "mt.Tm_Wallace(dna_seq)"
   ]
  },
  {
   "cell_type": "code",
   "execution_count": null,
   "metadata": {
    "ExecuteTime": {
     "end_time": "2022-09-16T06:31:51.708111Z",
     "start_time": "2022-09-16T06:31:51.690162Z"
    }
   },
   "outputs": [],
   "source": [
    "# Check for the melting point using GC content\n",
    "mt.Tm_GC(dna_seq)"
   ]
  },
  {
   "cell_type": "markdown",
   "metadata": {},
   "source": [
    "#### Excersise\n",
    "+ Which of the following sequence will have the highest GC?\n",
    "+ contoh 1 = 'ATGCATGGTGCGCGA'\n",
    "+ contoh 2 = 'ATTTGTGCTCCTGGA'"
   ]
  },
  {
   "cell_type": "code",
   "execution_count": null,
   "metadata": {},
   "outputs": [],
   "source": [
    "ex1 = Seq('ATGCATGGTGCGCGA')\n",
    "ex2 = Seq('ATTTGTGCTCCTGGA')"
   ]
  },
  {
   "cell_type": "code",
   "execution_count": null,
   "metadata": {},
   "outputs": [],
   "source": [
    "def get_metrics(seq):\n",
    "    gc = GC(seq)\n",
    "    at = at_content(seq)\n",
    "    melting = mt.Tm_GC(seq)\n",
    "    result = \"GC:{} ,AT:{}, Temp:{}\".format(gc,at,melting)\n",
    "    return result"
   ]
  },
  {
   "cell_type": "code",
   "execution_count": null,
   "metadata": {},
   "outputs": [],
   "source": [
    "get_metrics(ex1)"
   ]
  },
  {
   "cell_type": "code",
   "execution_count": null,
   "metadata": {},
   "outputs": [],
   "source": [
    "get_metrics(ex2)"
   ]
  },
  {
   "cell_type": "code",
   "execution_count": null,
   "metadata": {},
   "outputs": [],
   "source": [
    "GC(dna_seq)"
   ]
  },
  {
   "cell_type": "code",
   "execution_count": null,
   "metadata": {},
   "outputs": [],
   "source": [
    "GC123(dna_seq)"
   ]
  },
  {
   "cell_type": "code",
   "execution_count": null,
   "metadata": {},
   "outputs": [],
   "source": [
    "# GC_Skew\n",
    "GC_skew(dna_seq,10)"
   ]
  },
  {
   "cell_type": "code",
   "execution_count": null,
   "metadata": {},
   "outputs": [],
   "source": [
    "GC_skew('ATGGGGTCCCGCTC')"
   ]
  },
  {
   "cell_type": "markdown",
   "metadata": {},
   "source": [
    "#### Check for the  Molecular Weight\n",
    "+ ProtParam.ProteinAnalysis\n",
    "+ Counter from collections"
   ]
  },
  {
   "cell_type": "code",
   "execution_count": null,
   "metadata": {
    "ExecuteTime": {
     "end_time": "2022-09-16T06:47:32.813555Z",
     "start_time": "2022-09-16T06:47:32.794577Z"
    }
   },
   "outputs": [],
   "source": [
    "from Bio.Seq import Seq\n",
    "from Bio.SeqUtils import molecular_weight"
   ]
  },
  {
   "cell_type": "code",
   "execution_count": null,
   "metadata": {
    "ExecuteTime": {
     "end_time": "2022-09-16T06:47:33.601834Z",
     "start_time": "2022-09-16T06:47:33.586874Z"
    }
   },
   "outputs": [],
   "source": [
    "dna = Seq('ATGATCTCGTAA')"
   ]
  },
  {
   "cell_type": "code",
   "execution_count": null,
   "metadata": {
    "ExecuteTime": {
     "end_time": "2022-09-16T06:47:34.264751Z",
     "start_time": "2022-09-16T06:47:34.154045Z"
    }
   },
   "outputs": [],
   "source": [
    "# Molecular weight of DNA nucleotide\n",
    "molecular_weight(dna)"
   ]
  },
  {
   "cell_type": "markdown",
   "metadata": {},
   "source": [
    "### Lab 2 : DNA Sequence Alignment"
   ]
  },
  {
   "cell_type": "markdown",
   "metadata": {},
   "source": [
    "### Sequence Alignment\n",
    "+ Sequence alignment is a method of arranging sequences of DNA, RNA, or Amino Acids or proteins to identify regions of similarity. \n",
    "+ The similarity being identified, may be a result of functional, structural, or evolutionary relationships between the sequences.\n",
    "+ It is useful in identifying similarity and homology\n",
    "+ Homology: descent from a common ancestor or source.\n",
    "\n",
    "#### Terms\n",
    "+ Matches\n",
    "+ Mismatches\n",
    "+ Gap\n",
    "\n",
    "![](https://drive.google.com/uc?export=view&id=1xjcoAfhvq0JY-Oc7EiVH-syEe5qamdrw)\n",
    "\n",
    "#### Alignment Types\n",
    "+ Global alignment: finds the best concordance/agreement betwenn all characters in two sequences\n",
    "    + Mostly from end to end\n",
    "    + By Needle\n",
    "+ Local Alignment: finds just the subsequences that align the best\n",
    "    + In this method, we consider subsequences within each of the 2 sequences and try to match them to obtain the best alignment.\n",
    "    + By Water\n",
    " \n",
    "![](https://drive.google.com/uc?export=view&id=1NRwK49u9zjKN9KjiJZyBprlYFr6PPWe5)\n",
    "\n",
    "#### When to use local alignment\n",
    "\n",
    "+ 2 sequences have a small matched region\n",
    "+ 2 Sequences are of different lengths\n",
    "+ Overlapping sequences\n",
    "+ One sequences is a subsequences of the other\n",
    "\n",
    "+ Blast\n",
    "+ Emboss"
   ]
  },
  {
   "cell_type": "code",
   "execution_count": null,
   "metadata": {
    "ExecuteTime": {
     "end_time": "2022-09-16T06:49:11.476142Z",
     "start_time": "2022-09-16T06:49:11.451206Z"
    }
   },
   "outputs": [],
   "source": [
    "from Bio import pairwise2\n",
    "from Bio.pairwise2 import format_alignment"
   ]
  },
  {
   "cell_type": "code",
   "execution_count": null,
   "metadata": {
    "ExecuteTime": {
     "end_time": "2022-09-16T06:49:30.754744Z",
     "start_time": "2022-09-16T06:49:30.746774Z"
    }
   },
   "outputs": [],
   "source": [
    "seq1 = Seq('ACTCGT')\n",
    "seq2 = Seq('ATTCG')"
   ]
  },
  {
   "cell_type": "code",
   "execution_count": null,
   "metadata": {
    "ExecuteTime": {
     "end_time": "2022-09-16T06:49:31.257546Z",
     "start_time": "2022-09-16T06:49:31.237634Z"
    }
   },
   "outputs": [],
   "source": [
    "# Global Alignment\n",
    "alignments = pairwise2.align.globalxx(seq1,seq2)"
   ]
  },
  {
   "cell_type": "code",
   "execution_count": null,
   "metadata": {
    "ExecuteTime": {
     "end_time": "2022-09-16T06:49:31.780945Z",
     "start_time": "2022-09-16T06:49:31.760969Z"
    }
   },
   "outputs": [],
   "source": [
    "alignments"
   ]
  },
  {
   "cell_type": "code",
   "execution_count": null,
   "metadata": {
    "ExecuteTime": {
     "end_time": "2022-09-16T06:50:28.727885Z",
     "start_time": "2022-09-16T06:50:28.707906Z"
    }
   },
   "outputs": [],
   "source": [
    "# To display the alignment\n",
    "print(format_alignment(*alignments[0]))"
   ]
  },
  {
   "cell_type": "code",
   "execution_count": null,
   "metadata": {
    "ExecuteTime": {
     "end_time": "2022-09-16T06:50:29.529428Z",
     "start_time": "2022-09-16T06:50:29.503529Z"
    }
   },
   "outputs": [],
   "source": [
    "# View all \n",
    "for a in alignments:\n",
    "    print(format_alignment(*a))"
   ]
  },
  {
   "cell_type": "code",
   "execution_count": null,
   "metadata": {
    "ExecuteTime": {
     "end_time": "2022-09-16T06:50:30.892311Z",
     "start_time": "2022-09-16T06:50:30.867386Z"
    }
   },
   "outputs": [],
   "source": [
    "# Global Alignment\n",
    "loc_alignments = pairwise2.align.localxx(seq1,seq2)"
   ]
  },
  {
   "cell_type": "code",
   "execution_count": null,
   "metadata": {
    "ExecuteTime": {
     "end_time": "2022-09-16T06:50:31.584717Z",
     "start_time": "2022-09-16T06:50:31.570751Z"
    }
   },
   "outputs": [],
   "source": [
    "# View all \n",
    "for a in loc_alignments:\n",
    "    print(format_alignment(*a))"
   ]
  },
  {
   "cell_type": "code",
   "execution_count": null,
   "metadata": {
    "ExecuteTime": {
     "end_time": "2022-09-16T06:50:32.086768Z",
     "start_time": "2022-09-16T06:50:32.069787Z"
    }
   },
   "outputs": [],
   "source": [
    "# Get the alignment by only the score\n",
    "alignment2 = pairwise2.align.globalxx(seq1,seq2,one_alignment_only=True,score_only=True)"
   ]
  },
  {
   "cell_type": "code",
   "execution_count": null,
   "metadata": {
    "ExecuteTime": {
     "end_time": "2022-09-16T06:50:32.821784Z",
     "start_time": "2022-09-16T06:50:32.809816Z"
    }
   },
   "outputs": [],
   "source": [
    "alignment2"
   ]
  },
  {
   "cell_type": "markdown",
   "metadata": {},
   "source": [
    "#### Check for similarity or percentage of similarity using Alignment\n",
    "+ fraction of nucleotides that is the same/ total number of nucleotides * 100%\n"
   ]
  },
  {
   "cell_type": "code",
   "execution_count": null,
   "metadata": {
    "ExecuteTime": {
     "end_time": "2022-09-16T06:50:35.123020Z",
     "start_time": "2022-09-16T06:50:35.110056Z"
    }
   },
   "outputs": [],
   "source": [
    "seq1"
   ]
  },
  {
   "cell_type": "code",
   "execution_count": null,
   "metadata": {
    "ExecuteTime": {
     "end_time": "2022-09-16T06:50:35.565641Z",
     "start_time": "2022-09-16T06:50:35.553675Z"
    }
   },
   "outputs": [],
   "source": [
    "seq2"
   ]
  },
  {
   "cell_type": "code",
   "execution_count": null,
   "metadata": {
    "ExecuteTime": {
     "end_time": "2022-09-16T06:50:36.134847Z",
     "start_time": "2022-09-16T06:50:36.124870Z"
    }
   },
   "outputs": [],
   "source": [
    "alignment2/len(seq1) *100"
   ]
  },
  {
   "cell_type": "code",
   "execution_count": null,
   "metadata": {
    "ExecuteTime": {
     "end_time": "2022-09-16T06:50:38.951540Z",
     "start_time": "2022-09-16T06:50:38.946552Z"
    }
   },
   "outputs": [],
   "source": [
    "# Get the alignment by only the score\n",
    "loc_alignment2 = pairwise2.align.localxx(seq1,seq2,one_alignment_only=True,score_only=True)"
   ]
  },
  {
   "cell_type": "code",
   "execution_count": null,
   "metadata": {
    "ExecuteTime": {
     "end_time": "2022-09-16T06:50:40.454924Z",
     "start_time": "2022-09-16T06:50:40.433983Z"
    }
   },
   "outputs": [],
   "source": [
    "loc_alignment2/len(seq1) *100"
   ]
  },
  {
   "cell_type": "markdown",
   "metadata": {},
   "source": [
    "### Find out all the possible global alignments with the maximum similarity score\n",
    "+ Matching characters :2 points, \n",
    "+ Each mismatching character: -1 point\n",
    "+ 0.5 points are deducted when opening a gap, \n",
    "+ 0.1 points are deducted when extending it."
   ]
  },
  {
   "cell_type": "code",
   "execution_count": null,
   "metadata": {
    "ExecuteTime": {
     "end_time": "2022-09-16T06:53:34.399930Z",
     "start_time": "2022-09-16T06:53:34.374965Z"
    }
   },
   "outputs": [],
   "source": [
    "# GLobal alignment with max sim\n",
    "glb_alignment = pairwise2.align.globalms(seq1,seq2,2,-1,-0.5,-0.1)"
   ]
  },
  {
   "cell_type": "code",
   "execution_count": null,
   "metadata": {
    "ExecuteTime": {
     "end_time": "2022-09-16T06:53:36.183412Z",
     "start_time": "2022-09-16T06:53:36.165429Z"
    }
   },
   "outputs": [],
   "source": [
    "# View all \n",
    "for a in glb_alignment:\n",
    "    print(format_alignment(*a))"
   ]
  },
  {
   "cell_type": "code",
   "execution_count": null,
   "metadata": {
    "jupyter": {
     "source_hidden": true
    }
   },
   "outputs": [],
   "source": [
    "seqA = Seq('AAGGCTT')\n",
    "seqB = Seq('AAGGC')\n",
    "seqC = Seq('AAGGCAT')\n",
    "AvB = pairwise2.align.localxx(seqA,seqB,one_alignment_only=True,score_only=True)\n",
    "BvC = pairwise2.align.localxx(seqB,seqC,one_alignment_only=True,score_only=True)\n",
    "AvC = pairwise2.align.localxx(seqA,seqC,one_alignment_only=True,score_only=True)\n",
    "print(\"AvB\", AvB/len(seqB) *100)\n",
    "print(\"BvC\", BvC/len(seqB) *100)\n",
    "print(\"AvC\", AvC/len(seqA) *100)"
   ]
  },
  {
   "cell_type": "markdown",
   "metadata": {},
   "source": [
    "### Checking for Similarity Between Sequences\n",
    "+ Sequence Alignment\n",
    "    - Dynamic Programming (Global/Local/(needle/water))\n",
    "    - Dotplot\n",
    "    \n",
    "+ Similarity: resemblance between two sequences in comparison\n",
    "    - the minimal number of edit operations (inserts, deletes, and substitutions) in order to transform the one sequence into an exact copy of the other sequence being aligned \n",
    "    - distance\n",
    "+ Identity: the number of charaters that match EXACTLY between two different sequences\n",
    "    + Gaps are not counted \n",
    "    + The measurement is relational to the shorter of the two sequences. \n",
    "    + This has the effect that sequence identity is not transitive, i.e. \n",
    "    + if sequence A=B and B=C then A is not necessarily equal C (in terms of the identity distance measure) :\n",
    " \n",
    " \n",
    " - A: AAGGCTT\n",
    " - B: AAGGC\n",
    " - C:AAGGCAT"
   ]
  },
  {
   "cell_type": "markdown",
   "metadata": {
    "jupyter": {
     "source_hidden": true
    }
   },
   "source": [
    "+ Here identity(A,B)=100% (5 identical nucleotides / min(length(A),length(B))).\n",
    "Identity(B,C)=100%, but identity(A,C)=85% ((6 identical nucleotides / 7)). So 100% identity does not mean two sequences are the same.\n",
    "+ Sequence similarity is first of all a general description of a relationship but nevertheless its more or less common practice to define similarity as an optimal matching problem (for sequence alignments or unless defined otherwise). \n",
    "+ Hereby, the optimal matching algorithm finds the minimal number of edit operations (inserts, deletes, and substitutions) in order to transform the one sequence into an exact copy of the other sequence being aligned (edit distance). \n",
    "+ Using this, the percentage sequence similarity of the examples above are sim(A,B)=60%, sim(B,C)=60%, sim(A,C)=86% (semi-global, sim=1-(edit distance/unaligned length of the shorter sequence)). But there are other ways to define similarity between two objects (e.g. using tertiary strucure of proteins).\n",
    "An then you might start to conclude from similarity to homology, but this was already covered sufficiently\n",
    "+ read more https://www.researchgate.net/post/Homology_similarity_and_identity-can_anyone_help_with_these_terms"
   ]
  },
  {
   "cell_type": "code",
   "execution_count": null,
   "metadata": {},
   "outputs": [],
   "source": [
    "from Bio.Seq import Seq"
   ]
  },
  {
   "cell_type": "code",
   "execution_count": null,
   "metadata": {},
   "outputs": [],
   "source": [
    "seqA = Seq('AAGGCTT')\n",
    "seqB = Seq('AAGGC')\n",
    "seqC = Seq('AAGGCAT')"
   ]
  },
  {
   "cell_type": "code",
   "execution_count": null,
   "metadata": {},
   "outputs": [],
   "source": [
    "from Bio import pairwise2"
   ]
  },
  {
   "cell_type": "code",
   "execution_count": null,
   "metadata": {},
   "outputs": [],
   "source": [
    "AvB = pairwise2.align.localxx(seqA,seqB,one_alignment_only=True,score_only=True)\n",
    "BvC = pairwise2.align.localxx(seqB,seqC,one_alignment_only=True,score_only=True)\n",
    "AvC = pairwise2.align.localxx(seqA,seqC,one_alignment_only=True,score_only=True)"
   ]
  },
  {
   "cell_type": "code",
   "execution_count": null,
   "metadata": {},
   "outputs": [],
   "source": [
    "print(\"AvB\",AvB/len(seqB) *100)"
   ]
  },
  {
   "cell_type": "markdown",
   "metadata": {},
   "source": [
    "#### Narative\n",
    "+ Seq A and Seq B are 100 identical"
   ]
  },
  {
   "cell_type": "code",
   "execution_count": null,
   "metadata": {},
   "outputs": [],
   "source": [
    "print(\"BvC\",BvC/len(seqB) *100)"
   ]
  },
  {
   "cell_type": "code",
   "execution_count": null,
   "metadata": {},
   "outputs": [],
   "source": [
    "print(\"AvC\",AvC/len(seqC) *100)"
   ]
  },
  {
   "cell_type": "code",
   "execution_count": null,
   "metadata": {},
   "outputs": [],
   "source": [
    "# Check if same\n",
    "seqA == seqB"
   ]
  },
  {
   "cell_type": "markdown",
   "metadata": {},
   "source": [
    "#### Hamming distance: shows how many places 2 strings differ\n",
    "+ Hamming distance between two strings of equal length is the number of positions at which the corresponding symbols are different. \n",
    "+ In other words, it measures the minimum number of substitutions required to change one string into the other, or the minimum number of errors that could have transformed one string into the othe\n",
    "+ It is used for error detection or error correction\n",
    "+ It is used to quantify the similarity of DNA sequences,\n",
    "+ For checking the edit distance\n",
    " - edit distance is a way of quantifying how dissimilar two strings (e.g., words) are to one another by counting the minimum number of operations required to transform one string into the other. \n",
    " - eg Levenshtein distance\n",
    "\n",
    "#### Levenshtein distance\n",
    "+ This method was invented in 1965 by the Russian Mathematician Vladimir Levenshtein (1935-2017). \n",
    "+ The distance value describes the minimal number of deletions, insertions, or substitutions that are required to transform one string (the source) into another (the target). \n",
    "+ Unlike the Hamming distance, the Levenshtein distance works on strings with an unequal length\n",
    "\n",
    "+ pip install python-Levenshtein"
   ]
  },
  {
   "cell_type": "code",
   "execution_count": null,
   "metadata": {},
   "outputs": [],
   "source": [
    "seq1 = Seq('ACTAT')\n",
    "seq2 = Seq('ACTTA')\n",
    "seq3 = Seq('ACTT')"
   ]
  },
  {
   "cell_type": "code",
   "execution_count": null,
   "metadata": {},
   "outputs": [],
   "source": [
    "# Hamming Distance fxn\n",
    "def hamming_distance(lhs,rhs):\n",
    "    return len([(x,y) for x,y in zip(lhs,rhs) if x != y])"
   ]
  },
  {
   "cell_type": "code",
   "execution_count": null,
   "metadata": {},
   "outputs": [],
   "source": [
    "hamming_distance(seq1,seq2)"
   ]
  },
  {
   "cell_type": "code",
   "execution_count": null,
   "metadata": {},
   "outputs": [],
   "source": [
    "# 0 if the same\n",
    "hamming_distance(seq1,seq1)"
   ]
  },
  {
   "cell_type": "code",
   "execution_count": null,
   "metadata": {},
   "outputs": [],
   "source": [
    "print(seq1)\n",
    "print(seq1[::-1])"
   ]
  },
  {
   "cell_type": "code",
   "execution_count": null,
   "metadata": {},
   "outputs": [],
   "source": [
    "hamming_distance(seq1,seq1[::-1])"
   ]
  },
  {
   "cell_type": "code",
   "execution_count": null,
   "metadata": {},
   "outputs": [],
   "source": [
    "hamming_distance(seq1,seq3)"
   ]
  },
  {
   "cell_type": "markdown",
   "metadata": {},
   "source": [
    "#### Levenshtein Distance"
   ]
  },
  {
   "cell_type": "code",
   "execution_count": null,
   "metadata": {},
   "outputs": [],
   "source": [
    "from Levenshtein import distance"
   ]
  },
  {
   "cell_type": "code",
   "execution_count": null,
   "metadata": {},
   "outputs": [],
   "source": [
    "distance(str(seq1),str(seq2))"
   ]
  },
  {
   "cell_type": "code",
   "execution_count": null,
   "metadata": {},
   "outputs": [],
   "source": [
    "print(\"Hamming Distance\",hamming_distance(seq1,seq2))\n",
    "print(\"Levenshtein Distance\",distance(str(seq1),str(seq2)))"
   ]
  },
  {
   "cell_type": "code",
   "execution_count": null,
   "metadata": {},
   "outputs": [],
   "source": [
    "print(\"Hamming Distance\",hamming_distance(seq1,seq3))\n",
    "print(\"Levenshtein Distance\",distance(str(seq1),str(seq3)))"
   ]
  },
  {
   "cell_type": "markdown",
   "metadata": {},
   "source": [
    "#### Sequence Alignment using Dotplot"
   ]
  },
  {
   "cell_type": "markdown",
   "metadata": {},
   "source": [
    "### Dot Plot\n",
    "+ A dot plot is a graphical method that allows the comparison of two biological sequences \n",
    "and identify regions of close similarity between them.\n",
    "+ Simplest method - put a dot wherever\n",
    "sequences are identical \n",
    "+ Dot plots compare two sequences by organizing one sequence on the x-axis, and another on the y-axis, of a plot. \n",
    "+ When the residues of both sequences match at the same location on the plot, a dot is drawn at the corresponding position\n",
    "\n",
    "#### usefulness\n",
    "+ Dot plots can also be used to visually inspect sequences for \n",
    "  - direct or inverted repeats\n",
    "  - regions with low sequence complexity.\n",
    "  - Similar regions\n",
    "  - Repeated sequences\n",
    "  - Sequence rearrangements\n",
    "  - RNA structures\n",
    "  - Gene order\n",
    "\n",
    "+ Link :https://stackoverflow.com/questions/40822400/how-to-create-a-dotplot-of-two-dna-sequence-in-python"
   ]
  },
  {
   "cell_type": "code",
   "execution_count": null,
   "metadata": {
    "ExecuteTime": {
     "end_time": "2022-09-16T06:56:24.087353Z",
     "start_time": "2022-09-16T06:56:24.063424Z"
    }
   },
   "outputs": [],
   "source": [
    "\n",
    "def delta(x,y):\n",
    "    return 0 if x == y else 1\n",
    "\n",
    "\n",
    "def M(seq1,seq2,i,j,k):\n",
    "    return sum(delta(x,y) for x,y in zip(seq1[i:i+k],seq2[j:j+k]))\n",
    "\n",
    "\n",
    "def makeMatrix(seq1,seq2,k):\n",
    "    n = len(seq1)\n",
    "    m = len(seq2)\n",
    "    return [[M(seq1,seq2,i,j,k) for j in range(m-k+1)] for i in range(n-k+1)]\n",
    "\n",
    "\n",
    "def plotMatrix(M,t, seq1, seq2, nonblank = chr(0x25A0), blank = ' '):\n",
    "    print(' |' + seq2)\n",
    "    print('-'*(2 + len(seq2)))\n",
    "    for label,row in zip(seq1,M):\n",
    "        line = ''.join(nonblank if s < t else blank for s in row)\n",
    "        print(label + '|' + line)\n",
    "\n",
    "\n",
    "def dotplot(seq1,seq2,k = 1,t = 1):\n",
    "    M = makeMatrix(seq1,seq2,k)\n",
    "    plotMatrix(M, t, seq1,seq2) #experiment with character choice"
   ]
  },
  {
   "cell_type": "code",
   "execution_count": null,
   "metadata": {
    "ExecuteTime": {
     "end_time": "2022-09-16T06:56:26.176446Z",
     "start_time": "2022-09-16T06:56:26.157532Z"
    }
   },
   "outputs": [],
   "source": [
    "from Bio.Seq import Seq"
   ]
  },
  {
   "cell_type": "code",
   "execution_count": null,
   "metadata": {
    "ExecuteTime": {
     "end_time": "2022-09-16T06:56:26.728393Z",
     "start_time": "2022-09-16T06:56:26.711442Z"
    }
   },
   "outputs": [],
   "source": [
    "seq1 = Seq('ACTTAG')\n",
    "seq2 = Seq('AC')"
   ]
  },
  {
   "cell_type": "code",
   "execution_count": null,
   "metadata": {
    "ExecuteTime": {
     "end_time": "2022-09-16T06:56:27.263241Z",
     "start_time": "2022-09-16T06:56:27.247285Z"
    }
   },
   "outputs": [],
   "source": [
    "dotplot(seq1,seq2)"
   ]
  },
  {
   "cell_type": "code",
   "execution_count": null,
   "metadata": {
    "ExecuteTime": {
     "end_time": "2022-09-16T06:56:28.393163Z",
     "start_time": "2022-09-16T06:56:28.373211Z"
    }
   },
   "outputs": [],
   "source": [
    "# Indentical show diagonal\n",
    "dotplot(seq1,seq1)"
   ]
  },
  {
   "cell_type": "code",
   "execution_count": null,
   "metadata": {
    "ExecuteTime": {
     "end_time": "2022-09-16T06:56:29.239760Z",
     "start_time": "2022-09-16T06:56:29.230816Z"
    }
   },
   "outputs": [],
   "source": [
    "# Indentical show diagonal\n",
    "dotplot('TREE','TREE')"
   ]
  },
  {
   "cell_type": "code",
   "execution_count": null,
   "metadata": {
    "ExecuteTime": {
     "end_time": "2022-09-16T06:56:30.055412Z",
     "start_time": "2022-09-16T06:56:30.037423Z"
    }
   },
   "outputs": [],
   "source": [
    "import matplotlib.pyplot as plt\n",
    "import numpy as np"
   ]
  },
  {
   "cell_type": "code",
   "execution_count": null,
   "metadata": {
    "ExecuteTime": {
     "end_time": "2022-09-16T06:56:31.186548Z",
     "start_time": "2022-09-16T06:56:30.706270Z"
    }
   },
   "outputs": [],
   "source": [
    "# Add Some fancyness to it\n",
    "plt.imshow(np.array(makeMatrix(seq1,seq2,1)))\n",
    "xt=plt.xticks(np.arange(len(list(seq1))),list(seq1))\n",
    "yt=plt.yticks(np.arange(len(list(seq1))),list(seq1))\n",
    "plt.show()"
   ]
  },
  {
   "cell_type": "code",
   "execution_count": null,
   "metadata": {
    "ExecuteTime": {
     "end_time": "2022-09-16T06:56:31.248603Z",
     "start_time": "2022-09-16T06:56:31.234676Z"
    }
   },
   "outputs": [],
   "source": [
    "# Convert to Fxn\n",
    "def dotplotx(seq1,seq2):\n",
    "    plt.imshow(np.array(makeMatrix(seq1,seq2,1)))\n",
    "    # on x-axis list all sequences of seq 2\n",
    "    xt=plt.xticks(np.arange(len(list(seq2))),list(seq2))\n",
    "    # on y-axis list all sequences of seq 1\n",
    "    yt=plt.yticks(np.arange(len(list(seq1))),list(seq1))\n",
    "    plt.show()"
   ]
  },
  {
   "cell_type": "code",
   "execution_count": null,
   "metadata": {
    "ExecuteTime": {
     "end_time": "2022-09-16T06:56:32.112509Z",
     "start_time": "2022-09-16T06:56:32.016900Z"
    }
   },
   "outputs": [],
   "source": [
    "dotplotx(seq1,seq2)"
   ]
  },
  {
   "cell_type": "code",
   "execution_count": null,
   "metadata": {
    "ExecuteTime": {
     "end_time": "2022-09-16T06:56:48.256115Z",
     "start_time": "2022-09-16T06:56:48.242149Z"
    }
   },
   "outputs": [],
   "source": [
    "dna1 = Seq(\"ATGATCTCGTAA\")\n",
    "dna2 = Seq(\"ATTATGTCGTAA\")"
   ]
  },
  {
   "cell_type": "code",
   "execution_count": null,
   "metadata": {
    "ExecuteTime": {
     "end_time": "2022-09-16T06:56:49.068402Z",
     "start_time": "2022-09-16T06:56:49.053410Z"
    }
   },
   "outputs": [],
   "source": [
    "dotplot(dna1,dna2)"
   ]
  },
  {
   "cell_type": "code",
   "execution_count": null,
   "metadata": {
    "ExecuteTime": {
     "end_time": "2022-09-16T06:56:49.856101Z",
     "start_time": "2022-09-16T06:56:49.693567Z"
    }
   },
   "outputs": [],
   "source": [
    "dotplotx(dna1,dna2)"
   ]
  },
  {
   "cell_type": "code",
   "execution_count": null,
   "metadata": {
    "ExecuteTime": {
     "end_time": "2022-09-16T06:56:50.451207Z",
     "start_time": "2022-09-16T06:56:50.271311Z"
    }
   },
   "outputs": [],
   "source": [
    "dotplotx(dna1,dna1)"
   ]
  }
 ],
 "metadata": {
  "kernelspec": {
   "display_name": "Python 3",
   "language": "python",
   "name": "python3"
  },
  "language_info": {
   "codemirror_mode": {
    "name": "ipython",
    "version": 3
   },
   "file_extension": ".py",
   "mimetype": "text/x-python",
   "name": "python",
   "nbconvert_exporter": "python",
   "pygments_lexer": "ipython3",
   "version": "3.9.13"
  },
  "toc": {
   "base_numbering": 1,
   "nav_menu": {},
   "number_sections": true,
   "sideBar": true,
   "skip_h1_title": false,
   "title_cell": "Table of Contents",
   "title_sidebar": "Contents",
   "toc_cell": false,
   "toc_position": {},
   "toc_section_display": true,
   "toc_window_display": false
  }
 },
 "nbformat": 4,
 "nbformat_minor": 4
}
