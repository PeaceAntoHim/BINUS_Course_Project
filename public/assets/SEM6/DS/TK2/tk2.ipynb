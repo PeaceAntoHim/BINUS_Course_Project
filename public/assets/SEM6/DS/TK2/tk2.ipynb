{
 "cells": [
  {
   "cell_type": "code",
   "execution_count": 1,
   "metadata": {},
   "outputs": [],
   "source": [
    "import pandas as pd\n",
    "\n",
    "# Data dari soal\n",
    "data = {\n",
    "    'No': [1, 2, 3, 4, 5, 6, 7, 8, 9, 10, 11, 12, 13, 14, 15],\n",
    "    'Jenis Kelamin': ['Laki-laki', 'Laki-laki', 'Perempuan', 'Perempuan', 'Laki-laki', 'Laki-laki', 'Perempuan', 'Perempuan', 'Laki-laki', 'Perempuan', 'Perempuan', 'Perempuan', 'Laki-laki', 'Laki-laki', 'Laki-laki'],\n",
    "    'Status Mahasiswa': ['Mahasiswa', 'Bekerja', 'Mahasiswa', 'Mahasiswa', 'Bekerja', 'Bekerja', 'Bekerja', 'Bekerja', 'Bekerja', 'Mahasiswa', 'Mahasiswa', 'Mahasiswa', 'Bekerja', 'Mahasiswa', 'Mahasiswa'],\n",
    "    'Status Pernikahan': ['Belum', 'Belum', 'Belum', 'Menikah', 'Menikah', 'Menikah', 'Menikah', 'Belum', 'Belum', 'Menikah', 'Belum', 'Menikah', 'Menikah', 'Menikah', 'Belum'],\n",
    "    'IPK Semester 1-6': [3.17, 3.3, 3.01, 3.25, 3.2, 2.5, 3, 2.7, 2.4, 2.5, 2.5, 3.5, 3.3, 3.25, 2.3],\n",
    "    'Status Kelulusan': ['Tepat', 'Tepat', 'Tepat', 'Tepat', 'Tepat', 'Terlambat', 'Terlambat', 'Terlambat', 'Terlambat', 'Terlambat', 'Terlambat', 'Tepat', 'Tepat', 'Tepat', 'Terlambat']\n",
    "}\n",
    "df = pd.DataFrame(data)"
   ]
  },
  {
   "cell_type": "code",
   "execution_count": 3,
   "metadata": {},
   "outputs": [
    {
     "name": "stdout",
     "output_type": "stream",
     "text": [
      "Mean    : 2.925333333333333\n",
      "Median  : 3.01\n",
      "Modus   : 2.5\n"
     ]
    }
   ],
   "source": [
    "import statistics\n",
    "\n",
    "# Itung Mean, Median, Mode\n",
    "mean = df['IPK Semester 1-6'].mean()\n",
    "median = df['IPK Semester 1-6'].median()\n",
    "modus = statistics.mode(df['IPK Semester 1-6'])\n",
    "\n",
    "# Display the results\n",
    "print(f\"Mean    : {mean}\")\n",
    "print(f\"Median  : {median}\")\n",
    "print(f\"Modus   : {modus}\")\n"
   ]
  }
 ],
 "metadata": {
  "kernelspec": {
   "display_name": "Python 3",
   "language": "python",
   "name": "python3"
  },
  "language_info": {
   "codemirror_mode": {
    "name": "ipython",
    "version": 3
   },
   "file_extension": ".py",
   "mimetype": "text/x-python",
   "name": "python",
   "nbconvert_exporter": "python",
   "pygments_lexer": "ipython3",
   "version": "3.10.4"
  }
 },
 "nbformat": 4,
 "nbformat_minor": 2
}
