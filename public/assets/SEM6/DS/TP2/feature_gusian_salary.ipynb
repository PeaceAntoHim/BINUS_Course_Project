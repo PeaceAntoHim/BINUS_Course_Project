{
 "cells": [
  {
   "cell_type": "code",
   "execution_count": 2,
   "metadata": {},
   "outputs": [
    {
     "name": "stdout",
     "output_type": "stream",
     "text": [
      "Predicted Status: Junior\n"
     ]
    }
   ],
   "source": [
    "import pandas as pd\n",
    "from sklearn.naive_bayes import GaussianNB\n",
    "\n",
    "# Example training data\n",
    "data = {\n",
    "    'Department': ['Sales', 'Sales', 'Sales', 'Systems', 'Systems', 'Systems'],\n",
    "    'Usia': ['31-35', '26-30', '31-35', '21-25', '31-35', '26-30'],\n",
    "    'Gaji': ['46-50', '26-30', '31-35', '46-50', '66-70', '46-50'],\n",
    "    'Status': ['Senior', 'Junior', 'Junior', 'Junior', 'Senior', 'Junior']\n",
    "}\n",
    "\n",
    "# Dataframe\n",
    "df = pd.DataFrame(data)\n",
    "\n",
    "# Preprocessing: Convert categorical data to numeric\n",
    "df['Department'] = df['Department'].astype('category').cat.codes\n",
    "df['Usia'] = df['Usia'].astype('category').cat.codes\n",
    "df['Gaji'] = df['Gaji'].astype('category').cat.codes\n",
    "df['Status'] = df['Status'].astype('category').cat.codes\n",
    "\n",
    "# Features (Department, Usia, Gaji) and target (Status)\n",
    "X = df[['Department', 'Usia', 'Gaji']]\n",
    "y = df['Status']\n",
    "\n",
    "# Model Naive Bayes\n",
    "model = GaussianNB()\n",
    "\n",
    "# Melatih model Naive Bayes\n",
    "model.fit(X, y)\n",
    "\n",
    "# Data baru untuk diprediksi\n",
    "# Create a DataFrame with the same feature structure as X\n",
    "X_new = pd.DataFrame([[1, 1, 2]], columns=['Department', 'Usia', 'Gaji'])\n",
    "\n",
    "# Prediksi status\n",
    "predicted_status = model.predict(X_new)\n",
    "\n",
    "# Output\n",
    "print(f'Predicted Status: {\"Senior\" if predicted_status[0] == 1 else \"Junior\"}')\n"
   ]
  }
 ],
 "metadata": {
  "kernelspec": {
   "display_name": "Python 3",
   "language": "python",
   "name": "python3"
  },
  "language_info": {
   "codemirror_mode": {
    "name": "ipython",
    "version": 3
   },
   "file_extension": ".py",
   "mimetype": "text/x-python",
   "name": "python",
   "nbconvert_exporter": "python",
   "pygments_lexer": "ipython3",
   "version": "3.10.4"
  }
 },
 "nbformat": 4,
 "nbformat_minor": 2
}
