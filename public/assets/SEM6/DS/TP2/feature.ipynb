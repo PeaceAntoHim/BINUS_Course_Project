{
 "cells": [
  {
   "cell_type": "code",
   "execution_count": 1,
   "metadata": {},
   "outputs": [
    {
     "name": "stdout",
     "output_type": "stream",
     "text": [
      "Rumah X berada di: Kota\n"
     ]
    }
   ],
   "source": [
    "import numpy as np\n",
    "from collections import Counter\n",
    "\n",
    "# Data rumah (Latitude, Longitude)\n",
    "data_rumah = {\n",
    "    \"A\": [11, 26],\n",
    "    \"B\": [15, 29],\n",
    "    \"C\": [19, 28],\n",
    "    \"D\": [18, 30],\n",
    "    \"E\": [16, 26],\n",
    "    \"F\": [23, 25],\n",
    "    \"G\": [23, 22],\n",
    "    \"H\": [21, 24],\n",
    "    \"I\": [29, 24],\n",
    "    \"J\": [29, 24]\n",
    "}\n",
    "\n",
    "# Lokasi masing-masing rumah\n",
    "lokasi_rumah = {\n",
    "    \"A\": \"Kota\",\n",
    "    \"B\": \"Kota\",\n",
    "    \"C\": \"Kota\",\n",
    "    \"D\": \"Kota\",\n",
    "    \"E\": \"Kota\",\n",
    "    \"F\": \"Kabupaten\",\n",
    "    \"G\": \"Kabupaten\",\n",
    "    \"H\": \"Kabupaten\",\n",
    "    \"I\": \"Kabupaten\",\n",
    "    \"J\": \"Kabupaten\"\n",
    "}\n",
    "\n",
    "# Fungsi untuk menghitung Euclidean Distance\n",
    "def euclidean_distance(point1, point2):\n",
    "    return np.sqrt(np.sum((np.array(point1) - np.array(point2))**2))\n",
    "\n",
    "# Fungsi K-NN\n",
    "def k_nearest_neighbors(data, predict, k=3):\n",
    "    distances = []\n",
    "    for rumah in data:\n",
    "        dist = euclidean_distance(data[rumah], predict)\n",
    "        distances.append((dist, lokasi_rumah[rumah]))\n",
    "    \n",
    "    # Sort jarak dan ambil K tetangga terdekat\n",
    "    distances = sorted(distances)[:k]\n",
    "    \n",
    "    # Ambil lokasi mayoritas\n",
    "    votes = [i[1] for i in distances]\n",
    "    vote_result = Counter(votes).most_common(1)[0][0]\n",
    "    \n",
    "    return vote_result\n",
    "\n",
    "# Rumah X yang ingin diklasifikasikan (19, 25)\n",
    "rumah_x = [19, 25]\n",
    "\n",
    "# Klasifikasi menggunakan k-NN\n",
    "hasil = k_nearest_neighbors(data_rumah, rumah_x, k=3)\n",
    "print(f\"Rumah X berada di: {hasil}\")\n"
   ]
  }
 ],
 "metadata": {
  "kernelspec": {
   "display_name": "Python 3",
   "language": "python",
   "name": "python3"
  },
  "language_info": {
   "codemirror_mode": {
    "name": "ipython",
    "version": 3
   },
   "file_extension": ".py",
   "mimetype": "text/x-python",
   "name": "python",
   "nbconvert_exporter": "python",
   "pygments_lexer": "ipython3",
   "version": "3.10.4"
  }
 },
 "nbformat": 4,
 "nbformat_minor": 2
}
