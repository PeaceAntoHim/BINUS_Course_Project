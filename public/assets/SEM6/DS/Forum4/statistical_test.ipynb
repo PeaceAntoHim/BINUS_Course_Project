{
 "cells": [
  {
   "cell_type": "code",
   "execution_count": 1,
   "metadata": {},
   "outputs": [
    {
     "data": {
      "text/plain": [
       "(6.533650124725218, 9.419682344083666e-11)"
      ]
     },
     "execution_count": 1,
     "metadata": {},
     "output_type": "execute_result"
    }
   ],
   "source": [
    "from scipy import stats\n",
    "import pandas as pd\n",
    "\n",
    "# Create two cohorts based on bmi_type: 'obese' and 'normal'\n",
    "data = pd.read_csv('insurance_with_bmi.csv')\n",
    "cohort_obese = data[data['bmi_type'] == 'obese']['charges']\n",
    "cohort_normal = data[data['bmi_type'] == 'normal']['charges']\n",
    "\n",
    "# Perform an independent t-test\n",
    "t_stat, p_value = stats.ttest_ind(cohort_obese, cohort_normal, equal_var=False)  # assuming unequal variances\n",
    "\n",
    "t_stat, p_value"
   ]
  }
 ],
 "metadata": {
  "kernelspec": {
   "display_name": "Python 3",
   "language": "python",
   "name": "python3"
  },
  "language_info": {
   "codemirror_mode": {
    "name": "ipython",
    "version": 3
   },
   "file_extension": ".py",
   "mimetype": "text/x-python",
   "name": "python",
   "nbconvert_exporter": "python",
   "pygments_lexer": "ipython3",
   "version": "3.10.4"
  }
 },
 "nbformat": 4,
 "nbformat_minor": 2
}
